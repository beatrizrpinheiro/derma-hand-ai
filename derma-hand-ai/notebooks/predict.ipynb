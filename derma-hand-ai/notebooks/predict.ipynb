{
 "cells": [
  {
   "cell_type": "code",
   "execution_count": null,
   "id": "3b40d7bc",
   "metadata": {},
   "outputs": [],
   "source": [
    "import cv2\n",
    "import numpy as np\n",
    "import os\n",
    "from tensorflow.keras.models import load_model\n",
    "\n",
    "# Defina as classes na ordem correta\n",
    "class_names = ['dyshidrosis', 'eczema']\n",
    "\n",
    "# Carregar o modelo\n",
    "model = load_model('derma-hand-ai\\models\\hand_skin_model.h5')\n",
    "\n",
    "test_folder = 'derma-hand-ai\\data\\teste_imagens'\n",
    "for img_file in os.listdir(test_folder):\n",
    "    img_path = os.path.join(test_folder, img_file)\n",
    "    img = cv2.imread(img_path)\n",
    "    if img is not None:\n",
    "        img = cv2.resize(img, (224, 224))\n",
    "        img = img / 255.0\n",
    "        img = np.expand_dims(img, axis=0)\n",
    "        pred = model.predict(img)\n",
    "        pred_class = np.argmax(pred, axis=1)[0]\n",
    "        prob = pred[0][pred_class] * 100  # confiança em %\n",
    "        print(f'Imagem: {img_file} → Predição: {class_names[pred_class]} ({prob:.2f}%)')\n"
   ]
  }
 ],
 "metadata": {
  "language_info": {
   "name": "python"
  }
 },
 "nbformat": 4,
 "nbformat_minor": 5
}
